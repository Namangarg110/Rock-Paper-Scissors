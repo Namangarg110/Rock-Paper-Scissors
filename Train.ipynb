{
 "cells": [
  {
   "cell_type": "code",
   "execution_count": 1,
   "id": "1c21c011",
   "metadata": {},
   "outputs": [
    {
     "name": "stdout",
     "output_type": "stream",
     "text": [
      "initialized\n"
     ]
    }
   ],
   "source": [
    "import tensorflow as tf\n",
    "physical_devices = tf.config.list_physical_devices('GPU')\n",
    "try:\n",
    "    tf.config.experimental.set_memory_growth(physical_devices[0], True)\n",
    "    print('initialized')\n",
    "except:\n",
    "    print(\"Pass\")\n",
    "    # Invalid device or cannot modify virtual devices once initialized.\n",
    "    pass\n",
    "from tensorflow import keras\n",
    "import numpy as np \n",
    "import cv2\n",
    "import os \n",
    "from tensorflow.keras.preprocessing.image import ImageDataGenerator\n",
    "from tensorflow.keras.models import model_from_json\n",
    "from tensorflow.keras.applications.vgg16 import VGG16"
   ]
  },
  {
   "cell_type": "code",
   "execution_count": 2,
   "id": "463c80ba",
   "metadata": {},
   "outputs": [],
   "source": [
    "\n",
    "IMG_SAVE_PATH = 'image_data'\n",
    "train_datagen = ImageDataGenerator(rescale=1/255)\n",
    "validation_datagen = ImageDataGenerator(rescale=1/255)"
   ]
  },
  {
   "cell_type": "code",
   "execution_count": 3,
   "id": "44c68bd4",
   "metadata": {},
   "outputs": [],
   "source": [
    "CLASS_MAP = {\n",
    "    \"rock\": 0,\n",
    "    \"paper\": 1,\n",
    "    \"scissors\": 2,\n",
    "    \"none\": 3\n",
    "}\n",
    "NUM_CLASSES = len(CLASS_MAP)\n"
   ]
  },
  {
   "cell_type": "code",
   "execution_count": 4,
   "id": "2f94219b",
   "metadata": {},
   "outputs": [
    {
     "name": "stdout",
     "output_type": "stream",
     "text": [
      "Found 792 images belonging to 4 classes.\n",
      "Found 88 images belonging to 4 classes.\n"
     ]
    }
   ],
   "source": [
    "train_generator = train_datagen.flow_from_directory(\n",
    "        \"./dataset/train\",\n",
    "        target_size=(227,227),\n",
    "        batch_size=20,\n",
    "        class_mode=\"categorical\")\n",
    "\n",
    "validation_generator = validation_datagen.flow_from_directory(\n",
    "        \"./dataset/test\",  \n",
    "        target_size=(227,227),  \n",
    "        batch_size=10,\n",
    "        class_mode='categorical')\n"
   ]
  },
  {
   "cell_type": "code",
   "execution_count": 6,
   "id": "c3cfd1c4",
   "metadata": {},
   "outputs": [
    {
     "data": {
      "text/plain": [
       "array([0, 0, 0, 0, 0, 0, 0, 0, 0, 0, 0, 0, 0, 0, 0, 0, 0, 0, 0, 0, 0, 0,\n",
       "       0, 0, 0, 0, 0, 0, 0, 0, 0, 0, 0, 0, 0, 0, 0, 0, 0, 0, 0, 0, 0, 0,\n",
       "       0, 0, 0, 0, 0, 0, 0, 0, 0, 0, 0, 0, 0, 0, 0, 0, 0, 0, 0, 0, 0, 0,\n",
       "       0, 0, 0, 0, 0, 0, 0, 0, 0, 0, 0, 0, 0, 0, 0, 0, 0, 0, 0, 0, 0, 0,\n",
       "       0, 0, 0, 0, 0, 0, 0, 0, 0, 0, 0, 0, 0, 0, 0, 0, 0, 0, 0, 0, 0, 0,\n",
       "       0, 0, 0, 0, 0, 0, 0, 0, 0, 0, 0, 0, 0, 0, 0, 0, 0, 0, 0, 0, 0, 0,\n",
       "       0, 0, 0, 0, 0, 0, 0, 0, 0, 0, 0, 0, 0, 0, 0, 0, 0, 0, 0, 0, 0, 0,\n",
       "       0, 0, 0, 0, 0, 0, 0, 0, 0, 0, 0, 0, 0, 0, 0, 0, 0, 0, 0, 0, 0, 0,\n",
       "       0, 0, 0, 0, 0, 0, 0, 0, 0, 0, 0, 0, 0, 0, 0, 0, 0, 0, 0, 0, 0, 0,\n",
       "       1, 1, 1, 1, 1, 1, 1, 1, 1, 1, 1, 1, 1, 1, 1, 1, 1, 1, 1, 1, 1, 1,\n",
       "       1, 1, 1, 1, 1, 1, 1, 1, 1, 1, 1, 1, 1, 1, 1, 1, 1, 1, 1, 1, 1, 1,\n",
       "       1, 1, 1, 1, 1, 1, 1, 1, 1, 1, 1, 1, 1, 1, 1, 1, 1, 1, 1, 1, 1, 1,\n",
       "       1, 1, 1, 1, 1, 1, 1, 1, 1, 1, 1, 1, 1, 1, 1, 1, 1, 1, 1, 1, 1, 1,\n",
       "       1, 1, 1, 1, 1, 1, 1, 1, 1, 1, 1, 1, 1, 1, 1, 1, 1, 1, 1, 1, 1, 1,\n",
       "       1, 1, 1, 1, 1, 1, 1, 1, 1, 1, 1, 1, 1, 1, 1, 1, 1, 1, 1, 1, 1, 1,\n",
       "       1, 1, 1, 1, 1, 1, 1, 1, 1, 1, 1, 1, 1, 1, 1, 1, 1, 1, 1, 1, 1, 1,\n",
       "       1, 1, 1, 1, 1, 1, 1, 1, 1, 1, 1, 1, 1, 1, 1, 1, 1, 1, 1, 1, 1, 1,\n",
       "       1, 1, 1, 1, 1, 1, 1, 1, 1, 1, 1, 1, 1, 1, 1, 1, 1, 1, 1, 1, 1, 1,\n",
       "       2, 2, 2, 2, 2, 2, 2, 2, 2, 2, 2, 2, 2, 2, 2, 2, 2, 2, 2, 2, 2, 2,\n",
       "       2, 2, 2, 2, 2, 2, 2, 2, 2, 2, 2, 2, 2, 2, 2, 2, 2, 2, 2, 2, 2, 2,\n",
       "       2, 2, 2, 2, 2, 2, 2, 2, 2, 2, 2, 2, 2, 2, 2, 2, 2, 2, 2, 2, 2, 2,\n",
       "       2, 2, 2, 2, 2, 2, 2, 2, 2, 2, 2, 2, 2, 2, 2, 2, 2, 2, 2, 2, 2, 2,\n",
       "       2, 2, 2, 2, 2, 2, 2, 2, 2, 2, 2, 2, 2, 2, 2, 2, 2, 2, 2, 2, 2, 2,\n",
       "       2, 2, 2, 2, 2, 2, 2, 2, 2, 2, 2, 2, 2, 2, 2, 2, 2, 2, 2, 2, 2, 2,\n",
       "       2, 2, 2, 2, 2, 2, 2, 2, 2, 2, 2, 2, 2, 2, 2, 2, 2, 2, 2, 2, 2, 2,\n",
       "       2, 2, 2, 2, 2, 2, 2, 2, 2, 2, 2, 2, 2, 2, 2, 2, 2, 2, 2, 2, 2, 2,\n",
       "       2, 2, 2, 2, 2, 2, 2, 2, 2, 2, 2, 2, 2, 2, 2, 2, 2, 2, 2, 2, 2, 2,\n",
       "       3, 3, 3, 3, 3, 3, 3, 3, 3, 3, 3, 3, 3, 3, 3, 3, 3, 3, 3, 3, 3, 3,\n",
       "       3, 3, 3, 3, 3, 3, 3, 3, 3, 3, 3, 3, 3, 3, 3, 3, 3, 3, 3, 3, 3, 3,\n",
       "       3, 3, 3, 3, 3, 3, 3, 3, 3, 3, 3, 3, 3, 3, 3, 3, 3, 3, 3, 3, 3, 3,\n",
       "       3, 3, 3, 3, 3, 3, 3, 3, 3, 3, 3, 3, 3, 3, 3, 3, 3, 3, 3, 3, 3, 3,\n",
       "       3, 3, 3, 3, 3, 3, 3, 3, 3, 3, 3, 3, 3, 3, 3, 3, 3, 3, 3, 3, 3, 3,\n",
       "       3, 3, 3, 3, 3, 3, 3, 3, 3, 3, 3, 3, 3, 3, 3, 3, 3, 3, 3, 3, 3, 3,\n",
       "       3, 3, 3, 3, 3, 3, 3, 3, 3, 3, 3, 3, 3, 3, 3, 3, 3, 3, 3, 3, 3, 3,\n",
       "       3, 3, 3, 3, 3, 3, 3, 3, 3, 3, 3, 3, 3, 3, 3, 3, 3, 3, 3, 3, 3, 3,\n",
       "       3, 3, 3, 3, 3, 3, 3, 3, 3, 3, 3, 3, 3, 3, 3, 3, 3, 3, 3, 3, 3, 3],\n",
       "      dtype=int32)"
      ]
     },
     "execution_count": 6,
     "metadata": {},
     "output_type": "execute_result"
    }
   ],
   "source": [
    "train_generator.classes"
   ]
  },
  {
   "cell_type": "code",
   "execution_count": 7,
   "id": "3f7b637e",
   "metadata": {},
   "outputs": [],
   "source": [
    "model = keras.models.Sequential()"
   ]
  },
  {
   "cell_type": "code",
   "execution_count": 8,
   "id": "eadd1208",
   "metadata": {},
   "outputs": [],
   "source": [
    "model.add(VGG16(include_top=False,input_shape=(227,227,3)))"
   ]
  },
  {
   "cell_type": "code",
   "execution_count": 9,
   "id": "4ae286b1",
   "metadata": {},
   "outputs": [],
   "source": [
    "model.add(keras.layers.Dropout(0.5))"
   ]
  },
  {
   "cell_type": "code",
   "execution_count": 10,
   "id": "d05377ee",
   "metadata": {},
   "outputs": [],
   "source": [
    "model.add(keras.layers.Convolution2D(NUM_CLASSES, (1, 1), padding='valid'))"
   ]
  },
  {
   "cell_type": "code",
   "execution_count": 11,
   "id": "75e33095",
   "metadata": {},
   "outputs": [],
   "source": [
    "model.add(keras.layers.Activation('relu'))"
   ]
  },
  {
   "cell_type": "code",
   "execution_count": 12,
   "id": "d0841430",
   "metadata": {},
   "outputs": [],
   "source": [
    "model.add(keras.layers.GlobalAveragePooling2D())"
   ]
  },
  {
   "cell_type": "code",
   "execution_count": 13,
   "id": "797f5042",
   "metadata": {},
   "outputs": [],
   "source": [
    "model.add(keras.layers.Activation('softmax'))"
   ]
  },
  {
   "cell_type": "code",
   "execution_count": 19,
   "id": "9bc77036",
   "metadata": {},
   "outputs": [
    {
     "name": "stdout",
     "output_type": "stream",
     "text": [
      "Model: \"sequential\"\n",
      "_________________________________________________________________\n",
      "Layer (type)                 Output Shape              Param #   \n",
      "=================================================================\n",
      "vgg16 (Functional)           (None, 7, 7, 512)         14714688  \n",
      "_________________________________________________________________\n",
      "dropout (Dropout)            (None, 7, 7, 512)         0         \n",
      "_________________________________________________________________\n",
      "conv2d (Conv2D)              (None, 7, 7, 4)           2052      \n",
      "_________________________________________________________________\n",
      "activation (Activation)      (None, 7, 7, 4)           0         \n",
      "_________________________________________________________________\n",
      "global_average_pooling2d (Gl (None, 4)                 0         \n",
      "_________________________________________________________________\n",
      "activation_1 (Activation)    (None, 4)                 0         \n",
      "=================================================================\n",
      "Total params: 14,716,740\n",
      "Trainable params: 14,716,740\n",
      "Non-trainable params: 0\n",
      "_________________________________________________________________\n"
     ]
    }
   ],
   "source": [
    "model.summary()"
   ]
  },
  {
   "cell_type": "code",
   "execution_count": 14,
   "id": "d59478fd",
   "metadata": {},
   "outputs": [
    {
     "name": "stderr",
     "output_type": "stream",
     "text": [
      "/home/namangarg110/.local/lib/python3.8/site-packages/tensorflow/python/keras/optimizer_v2/optimizer_v2.py:374: UserWarning: The `lr` argument is deprecated, use `learning_rate` instead.\n",
      "  warnings.warn(\n"
     ]
    }
   ],
   "source": [
    "from tensorflow.keras.optimizers import Adam\n",
    "model.compile(\n",
    "    optimizer=Adam(lr=0.0001),\n",
    "    loss='categorical_crossentropy',\n",
    "    metrics=['accuracy']\n",
    ")              "
   ]
  },
  {
   "cell_type": "code",
   "execution_count": 15,
   "id": "d3083e72",
   "metadata": {},
   "outputs": [
    {
     "name": "stdout",
     "output_type": "stream",
     "text": [
      "Epoch 1/40\n",
      "8/8 - 20s - loss: 1.2990 - accuracy: 0.4437 - val_loss: 1.0784 - val_accuracy: 0.5750\n",
      "Epoch 2/40\n",
      "8/8 - 6s - loss: 0.6564 - accuracy: 0.7875 - val_loss: 0.4668 - val_accuracy: 0.9500\n",
      "Epoch 3/40\n",
      "8/8 - 6s - loss: 0.0824 - accuracy: 0.9937 - val_loss: 0.6273 - val_accuracy: 0.7875\n",
      "Epoch 4/40\n",
      "8/8 - 6s - loss: 0.0541 - accuracy: 0.9875 - val_loss: 1.5350 - val_accuracy: 0.8125\n",
      "Epoch 5/40\n",
      "8/8 - 6s - loss: 0.0793 - accuracy: 0.9812 - val_loss: 1.5284 - val_accuracy: 0.8000\n",
      "Epoch 6/40\n",
      "8/8 - 6s - loss: 0.0859 - accuracy: 0.9688 - val_loss: 1.1166 - val_accuracy: 0.8000\n",
      "Epoch 7/40\n",
      "8/8 - 6s - loss: 0.0347 - accuracy: 1.0000 - val_loss: 1.6434 - val_accuracy: 0.7750\n",
      "Epoch 8/40\n",
      "8/8 - 6s - loss: 0.0086 - accuracy: 1.0000 - val_loss: 1.9381 - val_accuracy: 0.8125\n",
      "Epoch 9/40\n",
      "8/8 - 6s - loss: 0.0052 - accuracy: 1.0000 - val_loss: 0.8270 - val_accuracy: 0.8750\n",
      "Epoch 10/40\n",
      "8/8 - 11s - loss: 0.0072 - accuracy: 0.9934 - val_loss: 0.6173 - val_accuracy: 0.9375\n",
      "Epoch 11/40\n",
      "8/8 - 6s - loss: 0.0019 - accuracy: 1.0000 - val_loss: 2.9435 - val_accuracy: 0.8250\n",
      "Epoch 12/40\n",
      "8/8 - 6s - loss: 8.6937e-04 - accuracy: 1.0000 - val_loss: 6.3972 - val_accuracy: 0.6500\n",
      "Epoch 13/40\n",
      "8/8 - 6s - loss: 0.0012 - accuracy: 1.0000 - val_loss: 0.2579 - val_accuracy: 0.9500\n",
      "Epoch 14/40\n",
      "8/8 - 6s - loss: 1.5136e-04 - accuracy: 1.0000 - val_loss: 0.4526 - val_accuracy: 0.9250\n",
      "Epoch 15/40\n",
      "8/8 - 6s - loss: 1.4538e-04 - accuracy: 1.0000 - val_loss: 0.7868 - val_accuracy: 0.8875\n",
      "Epoch 16/40\n",
      "8/8 - 6s - loss: 2.8634e-04 - accuracy: 1.0000 - val_loss: 0.3725 - val_accuracy: 0.9125\n",
      "Epoch 17/40\n",
      "8/8 - 6s - loss: 1.1771e-04 - accuracy: 1.0000 - val_loss: 0.2233 - val_accuracy: 0.9500\n",
      "Epoch 18/40\n",
      "8/8 - 6s - loss: 3.5813e-05 - accuracy: 1.0000 - val_loss: 0.4069 - val_accuracy: 0.9375\n",
      "Epoch 19/40\n",
      "8/8 - 6s - loss: 1.8771e-05 - accuracy: 1.0000 - val_loss: 0.5026 - val_accuracy: 0.9375\n",
      "Epoch 20/40\n",
      "8/8 - 6s - loss: 1.8183e-05 - accuracy: 1.0000 - val_loss: 0.5773 - val_accuracy: 0.9250\n",
      "Epoch 21/40\n",
      "8/8 - 6s - loss: 1.6306e-05 - accuracy: 1.0000 - val_loss: 0.5684 - val_accuracy: 0.9375\n",
      "Epoch 22/40\n",
      "8/8 - 6s - loss: 1.8943e-05 - accuracy: 1.0000 - val_loss: 0.6143 - val_accuracy: 0.9250\n",
      "Epoch 23/40\n",
      "8/8 - 6s - loss: 1.1197e-05 - accuracy: 1.0000 - val_loss: 0.5304 - val_accuracy: 0.9375\n",
      "Epoch 24/40\n",
      "8/8 - 6s - loss: 1.7225e-05 - accuracy: 1.0000 - val_loss: 0.6212 - val_accuracy: 0.9250\n",
      "Epoch 25/40\n",
      "8/8 - 6s - loss: 1.5279e-05 - accuracy: 1.0000 - val_loss: 0.4138 - val_accuracy: 0.9500\n",
      "Epoch 26/40\n",
      "8/8 - 6s - loss: 1.3071e-05 - accuracy: 1.0000 - val_loss: 0.5113 - val_accuracy: 0.9375\n",
      "Epoch 27/40\n",
      "8/8 - 6s - loss: 1.3271e-05 - accuracy: 1.0000 - val_loss: 0.3982 - val_accuracy: 0.9500\n",
      "Epoch 28/40\n",
      "8/8 - 6s - loss: 1.2274e-05 - accuracy: 1.0000 - val_loss: 0.6227 - val_accuracy: 0.9250\n",
      "Epoch 29/40\n",
      "8/8 - 6s - loss: 9.9687e-06 - accuracy: 1.0000 - val_loss: 0.5871 - val_accuracy: 0.9375\n",
      "Epoch 30/40\n",
      "8/8 - 6s - loss: 1.2426e-05 - accuracy: 1.0000 - val_loss: 0.5104 - val_accuracy: 0.9375\n",
      "Epoch 31/40\n",
      "8/8 - 6s - loss: 9.0039e-06 - accuracy: 1.0000 - val_loss: 0.5112 - val_accuracy: 0.9375\n",
      "Epoch 32/40\n",
      "8/8 - 6s - loss: 7.6225e-06 - accuracy: 1.0000 - val_loss: 0.6242 - val_accuracy: 0.9250\n",
      "Epoch 33/40\n",
      "8/8 - 6s - loss: 7.0518e-06 - accuracy: 1.0000 - val_loss: 0.5161 - val_accuracy: 0.9375\n",
      "Epoch 34/40\n",
      "8/8 - 6s - loss: 9.1670e-06 - accuracy: 1.0000 - val_loss: 0.6269 - val_accuracy: 0.9250\n",
      "Epoch 35/40\n",
      "8/8 - 6s - loss: 7.5086e-06 - accuracy: 1.0000 - val_loss: 0.4999 - val_accuracy: 0.9500\n",
      "Epoch 36/40\n",
      "8/8 - 6s - loss: 6.9856e-06 - accuracy: 1.0000 - val_loss: 0.6280 - val_accuracy: 0.9250\n",
      "Epoch 37/40\n",
      "8/8 - 6s - loss: 6.5792e-06 - accuracy: 1.0000 - val_loss: 0.5286 - val_accuracy: 0.9375\n",
      "Epoch 38/40\n",
      "8/8 - 6s - loss: 5.9202e-06 - accuracy: 1.0000 - val_loss: 0.6299 - val_accuracy: 0.9250\n",
      "Epoch 39/40\n",
      "8/8 - 6s - loss: 6.1869e-06 - accuracy: 1.0000 - val_loss: 0.6309 - val_accuracy: 0.9250\n",
      "Epoch 40/40\n",
      "8/8 - 6s - loss: 4.8302e-06 - accuracy: 1.0000 - val_loss: 0.6312 - val_accuracy: 0.9250\n"
     ]
    }
   ],
   "source": [
    "history = model.fit(\n",
    "      train_generator,\n",
    "      steps_per_epoch=8,  \n",
    "      epochs=40,\n",
    "      verbose=2,\n",
    "      validation_data = validation_generator,\n",
    "      validation_steps=8)"
   ]
  },
  {
   "cell_type": "code",
   "execution_count": 16,
   "id": "1a98afe0",
   "metadata": {},
   "outputs": [
    {
     "data": {
      "text/plain": [
       "Text(0.5, 1.0, 'Training and validation loss')"
      ]
     },
     "execution_count": 16,
     "metadata": {},
     "output_type": "execute_result"
    },
    {
     "data": {
      "image/png": "[encoded data removed]",
      "text/plain": [
       "<Figure size 432x288 with 1 Axes>"
      ]
     },
     "metadata": {
      "needs_background": "light"
     },
     "output_type": "display_data"
    },
    {
     "data": {
      "image/png": "[encoded data removed]",
      "text/plain": [
       "<Figure size 432x288 with 1 Axes>"
      ]
     },
     "metadata": {
      "needs_background": "light"
     },
     "output_type": "display_data"
    }
   ],
   "source": [
    "import matplotlib.pyplot as plt\n",
    "\n",
    "#-----------------------------------------------------------\n",
    "# Retrieve a list of list results on training and test data\n",
    "# sets for each training epoch\n",
    "#-----------------------------------------------------------\n",
    "acc      = history.history[     'accuracy' ]\n",
    "val_acc  = history.history[ 'val_accuracy' ]\n",
    "loss     = history.history[    'loss' ]\n",
    "val_loss = history.history['val_loss' ]\n",
    "\n",
    "epochs   = range(len(acc)) # Get number of epochs\n",
    "\n",
    "#------------------------------------------------\n",
    "# Plot training and validation accuracy per epoch\n",
    "#------------------------------------------------\n",
    "plt.plot  ( epochs,     acc )\n",
    "plt.plot  ( epochs, val_acc )\n",
    "plt.title ('Training and validation accuracy')\n",
    "plt.figure()\n",
    "\n",
    "#------------------------------------------------\n",
    "# Plot training and validation loss per epoch\n",
    "#------------------------------------------------\n",
    "plt.plot  ( epochs,     loss )\n",
    "plt.plot  ( epochs, val_loss )\n",
    "plt.title ('Training and validation loss'   )"
   ]
  },
  {
   "cell_type": "code",
   "execution_count": 17,
   "id": "55dc7128",
   "metadata": {},
   "outputs": [],
   "source": [
    "model.save(\"rock-paper-scissors-model.h5\")"
   ]
  },
  {
   "cell_type": "code",
   "execution_count": 18,
   "id": "33037b63",
   "metadata": {},
   "outputs": [],
   "source": [
    "from numba import cuda \n",
    "device = cuda.get_current_device()\n",
    "device.reset()"
   ]
  }
 ],
 "metadata": {
  "kernelspec": {
   "display_name": "Python 3",
   "language": "python",
   "name": "python3"
  },
  "language_info": {
   "codemirror_mode": {
    "name": "ipython",
    "version": 3
   },
   "file_extension": ".py",
   "mimetype": "text/x-python",
   "name": "python",
   "nbconvert_exporter": "python",
   "pygments_lexer": "ipython3",
   "version": "3.8.5"
  }
 },
 "nbformat": 4,
 "nbformat_minor": 5
}
